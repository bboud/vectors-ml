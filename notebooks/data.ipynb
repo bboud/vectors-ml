{
 "cells": [
  {
   "cell_type": "code",
   "execution_count": null,
   "metadata": {},
   "outputs": [],
   "source": [
    "import sys\n",
    "sys.path.append(\"..\")"
   ]
  },
  {
   "cell_type": "code",
   "execution_count": null,
   "metadata": {},
   "outputs": [],
   "source": [
    "from vectorsml.dataset import Dataset\n",
    "ds = Dataset(\"../../data/OSG3DRuRu200_tune1.7.2_wBulk_stringShift_1.0_22momdeltaf-001.h5\")"
   ]
  },
  {
   "cell_type": "code",
   "execution_count": null,
   "metadata": {},
   "outputs": [],
   "source": [
    "from torch.utils.data import DataLoader\n",
    "\n",
    "from torch import nn\n",
    "import torch\n",
    "\n",
    "data_loader = DataLoader(\n",
    "    dataset=ds,\n",
    "    batch_size=1,\n",
    "    shuffle=True,\n",
    ")\n",
    "\n",
    "from vectorsml.model import Model\n",
    "model = Model()\n",
    "\n",
    "optimizer = torch.optim.Adamax(model.parameters(), lr=1e-5)"
   ]
  },
  {
   "cell_type": "code",
   "execution_count": null,
   "metadata": {},
   "outputs": [],
   "source": [
    "def complex_mse_loss(output, target):\n",
    "    return (0.5*(output - target)**2).mean(dtype=torch.complex64)\n",
    "\n",
    "loss_func = complex_mse_loss"
   ]
  },
  {
   "cell_type": "code",
   "execution_count": null,
   "metadata": {},
   "outputs": [],
   "source": [
    "for epoch in range(1):\n",
    "    for i, data in enumerate(data_loader):\n",
    "        keys = data[0]\n",
    "        values = data[1]\n",
    "\n",
    "        output = model(keys)\n",
    "\n",
    "        loss = loss_func(output, values)\n",
    "\n",
    "        optimizer.zero_grad()\n",
    "\n",
    "        loss.backward()\n",
    "        optimizer.step()\n",
    "    break"
   ]
  },
  {
   "cell_type": "code",
   "execution_count": null,
   "metadata": {},
   "outputs": [],
   "source": []
  }
 ],
 "metadata": {
  "kernelspec": {
   "display_name": "env",
   "language": "python",
   "name": "python3"
  },
  "language_info": {
   "codemirror_mode": {
    "name": "ipython",
    "version": 3
   },
   "file_extension": ".py",
   "mimetype": "text/x-python",
   "name": "python",
   "nbconvert_exporter": "python",
   "pygments_lexer": "ipython3",
   "version": "3.11.4"
  },
  "orig_nbformat": 4
 },
 "nbformat": 4,
 "nbformat_minor": 2
}
